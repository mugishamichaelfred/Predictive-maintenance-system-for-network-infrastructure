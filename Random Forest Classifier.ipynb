{
 "cells": [
  {
   "cell_type": "code",
   "execution_count": 1,
   "metadata": {},
   "outputs": [],
   "source": [
    "# Import required libraries\n",
    "import pandas as pd\n",
    "from sklearn.model_selection import train_test_split\n",
    "from sklearn.ensemble import RandomForestClassifier\n",
    "from sklearn.metrics import confusion_matrix, classification_report\n",
    "import seaborn as sns\n",
    "import matplotlib.pyplot as plt\n",
    "from sklearn.preprocessing import LabelEncoder"
   ]
  },
  {
   "cell_type": "code",
   "execution_count": 2,
   "metadata": {},
   "outputs": [
    {
     "data": {
      "text/html": [
       "<div>\n",
       "<style scoped>\n",
       "    .dataframe tbody tr th:only-of-type {\n",
       "        vertical-align: middle;\n",
       "    }\n",
       "\n",
       "    .dataframe tbody tr th {\n",
       "        vertical-align: top;\n",
       "    }\n",
       "\n",
       "    .dataframe thead th {\n",
       "        text-align: right;\n",
       "    }\n",
       "</style>\n",
       "<table border=\"1\" class=\"dataframe\">\n",
       "  <thead>\n",
       "    <tr style=\"text-align: right;\">\n",
       "      <th></th>\n",
       "      <th>Timestamp</th>\n",
       "      <th>Device</th>\n",
       "      <th>CPU (%)</th>\n",
       "      <th>Memory (%)</th>\n",
       "      <th>Errors (Count)</th>\n",
       "      <th>Traffic (Mbps)</th>\n",
       "      <th>Current Status</th>\n",
       "      <th>System State</th>\n",
       "      <th>Historical State</th>\n",
       "      <th>Future State Prediction</th>\n",
       "    </tr>\n",
       "  </thead>\n",
       "  <tbody>\n",
       "    <tr>\n",
       "      <th>0</th>\n",
       "      <td>2024-11-22 09:20:00</td>\n",
       "      <td>Router_A</td>\n",
       "      <td>99.88</td>\n",
       "      <td>36.92</td>\n",
       "      <td>1</td>\n",
       "      <td>213.78</td>\n",
       "      <td>Critical</td>\n",
       "      <td>Future</td>\n",
       "      <td>NaN</td>\n",
       "      <td>Critical</td>\n",
       "    </tr>\n",
       "    <tr>\n",
       "      <th>1</th>\n",
       "      <td>2024-11-22 09:25:00</td>\n",
       "      <td>Firewall_1</td>\n",
       "      <td>49.51</td>\n",
       "      <td>58.82</td>\n",
       "      <td>4</td>\n",
       "      <td>130.31</td>\n",
       "      <td>Healthy</td>\n",
       "      <td>Future</td>\n",
       "      <td>NaN</td>\n",
       "      <td>Healthy</td>\n",
       "    </tr>\n",
       "    <tr>\n",
       "      <th>2</th>\n",
       "      <td>2024-11-22 11:00:00</td>\n",
       "      <td>Switch_3</td>\n",
       "      <td>54.81</td>\n",
       "      <td>83.62</td>\n",
       "      <td>27</td>\n",
       "      <td>355.47</td>\n",
       "      <td>At Risk</td>\n",
       "      <td>Future</td>\n",
       "      <td>NaN</td>\n",
       "      <td>Healthy</td>\n",
       "    </tr>\n",
       "    <tr>\n",
       "      <th>3</th>\n",
       "      <td>2024-11-22 11:05:00</td>\n",
       "      <td>Router_C</td>\n",
       "      <td>63.68</td>\n",
       "      <td>86.95</td>\n",
       "      <td>15</td>\n",
       "      <td>356.59</td>\n",
       "      <td>Healthy</td>\n",
       "      <td>Future</td>\n",
       "      <td>NaN</td>\n",
       "      <td>At Risk</td>\n",
       "    </tr>\n",
       "    <tr>\n",
       "      <th>4</th>\n",
       "      <td>2024-11-22 11:35:00</td>\n",
       "      <td>Router_A</td>\n",
       "      <td>25.42</td>\n",
       "      <td>89.29</td>\n",
       "      <td>48</td>\n",
       "      <td>79.45</td>\n",
       "      <td>Healthy</td>\n",
       "      <td>Future</td>\n",
       "      <td>NaN</td>\n",
       "      <td>Critical</td>\n",
       "    </tr>\n",
       "    <tr>\n",
       "      <th>5</th>\n",
       "      <td>2024-11-22 12:00:00</td>\n",
       "      <td>Switch_1</td>\n",
       "      <td>37.25</td>\n",
       "      <td>69.03</td>\n",
       "      <td>33</td>\n",
       "      <td>209.37</td>\n",
       "      <td>Healthy</td>\n",
       "      <td>Historical</td>\n",
       "      <td>Overloaded</td>\n",
       "      <td>NaN</td>\n",
       "    </tr>\n",
       "    <tr>\n",
       "      <th>6</th>\n",
       "      <td>2024-11-22 12:35:00</td>\n",
       "      <td>Router_B</td>\n",
       "      <td>63.00</td>\n",
       "      <td>39.63</td>\n",
       "      <td>21</td>\n",
       "      <td>64.75</td>\n",
       "      <td>At Risk</td>\n",
       "      <td>Future</td>\n",
       "      <td>NaN</td>\n",
       "      <td>Healthy</td>\n",
       "    </tr>\n",
       "    <tr>\n",
       "      <th>7</th>\n",
       "      <td>2024-11-22 13:10:00</td>\n",
       "      <td>Switch_1</td>\n",
       "      <td>62.70</td>\n",
       "      <td>67.34</td>\n",
       "      <td>35</td>\n",
       "      <td>398.76</td>\n",
       "      <td>Healthy</td>\n",
       "      <td>Future</td>\n",
       "      <td>NaN</td>\n",
       "      <td>Healthy</td>\n",
       "    </tr>\n",
       "    <tr>\n",
       "      <th>8</th>\n",
       "      <td>2024-11-22 13:20:00</td>\n",
       "      <td>Router_B</td>\n",
       "      <td>95.50</td>\n",
       "      <td>86.14</td>\n",
       "      <td>46</td>\n",
       "      <td>102.76</td>\n",
       "      <td>Healthy</td>\n",
       "      <td>Future</td>\n",
       "      <td>NaN</td>\n",
       "      <td>Critical</td>\n",
       "    </tr>\n",
       "    <tr>\n",
       "      <th>9</th>\n",
       "      <td>2024-11-22 14:30:00</td>\n",
       "      <td>Router_A</td>\n",
       "      <td>75.91</td>\n",
       "      <td>57.70</td>\n",
       "      <td>12</td>\n",
       "      <td>162.70</td>\n",
       "      <td>Critical</td>\n",
       "      <td>Future</td>\n",
       "      <td>NaN</td>\n",
       "      <td>At Risk</td>\n",
       "    </tr>\n",
       "  </tbody>\n",
       "</table>\n",
       "</div>"
      ],
      "text/plain": [
       "            Timestamp      Device  CPU (%)  Memory (%)  Errors (Count)  \\\n",
       "0 2024-11-22 09:20:00    Router_A    99.88       36.92               1   \n",
       "1 2024-11-22 09:25:00  Firewall_1    49.51       58.82               4   \n",
       "2 2024-11-22 11:00:00    Switch_3    54.81       83.62              27   \n",
       "3 2024-11-22 11:05:00    Router_C    63.68       86.95              15   \n",
       "4 2024-11-22 11:35:00    Router_A    25.42       89.29              48   \n",
       "5 2024-11-22 12:00:00    Switch_1    37.25       69.03              33   \n",
       "6 2024-11-22 12:35:00    Router_B    63.00       39.63              21   \n",
       "7 2024-11-22 13:10:00    Switch_1    62.70       67.34              35   \n",
       "8 2024-11-22 13:20:00    Router_B    95.50       86.14              46   \n",
       "9 2024-11-22 14:30:00    Router_A    75.91       57.70              12   \n",
       "\n",
       "   Traffic (Mbps) Current Status System State Historical State  \\\n",
       "0          213.78       Critical       Future              NaN   \n",
       "1          130.31        Healthy       Future              NaN   \n",
       "2          355.47        At Risk       Future              NaN   \n",
       "3          356.59        Healthy       Future              NaN   \n",
       "4           79.45        Healthy       Future              NaN   \n",
       "5          209.37        Healthy   Historical       Overloaded   \n",
       "6           64.75        At Risk       Future              NaN   \n",
       "7          398.76        Healthy       Future              NaN   \n",
       "8          102.76        Healthy       Future              NaN   \n",
       "9          162.70       Critical       Future              NaN   \n",
       "\n",
       "  Future State Prediction  \n",
       "0                Critical  \n",
       "1                 Healthy  \n",
       "2                 Healthy  \n",
       "3                 At Risk  \n",
       "4                Critical  \n",
       "5                     NaN  \n",
       "6                 Healthy  \n",
       "7                 Healthy  \n",
       "8                Critical  \n",
       "9                 At Risk  "
      ]
     },
     "execution_count": 2,
     "metadata": {},
     "output_type": "execute_result"
    }
   ],
   "source": [
    "# Step 1: Load the dataset\n",
    "df = pd.read_excel('Predictive maintenance system for network infrastructure.xlsx')\n",
    "df.head(10)"
   ]
  },
  {
   "cell_type": "code",
   "execution_count": 3,
   "metadata": {},
   "outputs": [],
   "source": [
    "# Step 2: Preprocess the data\n",
    "# Define features and target\n",
    "features = ['CPU (%)', 'Memory (%)', 'Errors (Count)', 'Traffic (Mbps)']\n",
    "target = 'Current Status'\n",
    "\n",
    "X = df[features]  # Features\n",
    "y = df[target]    # Target\n",
    "\n",
    "# Encode target variable if necessary\n",
    "label_encoder = LabelEncoder()\n",
    "y = label_encoder.fit_transform(y)\n",
    "\n",
    "# Step 3: Split the data into training and test sets\n",
    "X_train, X_test, y_train, y_test = train_test_split(X, y, test_size=0.3, random_state=42)"
   ]
  },
  {
   "cell_type": "code",
   "execution_count": 4,
   "metadata": {},
   "outputs": [
    {
     "data": {
      "text/plain": [
       "array([1, 1, 1, 0, 0, 2, 2, 0, 0, 1])"
      ]
     },
     "execution_count": 4,
     "metadata": {},
     "output_type": "execute_result"
    }
   ],
   "source": [
    "# Step 4: Train the Random Forest model\n",
    "rf_model = RandomForestClassifier(n_estimators=100, random_state=42)\n",
    "rf_model.fit(X_train, y_train)\n",
    "\n",
    "# Step 5: Make predictions\n",
    "y_pred = rf_model.predict(X_test)\n",
    "y_pred[:10]"
   ]
  },
  {
   "cell_type": "code",
   "execution_count": 5,
   "metadata": {},
   "outputs": [
    {
     "data": {
      "image/png": "[encoded data removed]",
      "text/plain": [
       "<Figure size 800x600 with 2 Axes>"
      ]
     },
     "metadata": {},
     "output_type": "display_data"
    }
   ],
   "source": [
    "# Step 6: Evaluate the model\n",
    "# Confusion Matrix\n",
    "conf_matrix = confusion_matrix(y_test, y_pred)\n",
    "plt.figure(figsize=(8, 6))\n",
    "sns.heatmap(conf_matrix, annot=True, fmt='d', cmap=\"Blues\",\n",
    "            xticklabels=label_encoder.classes_,\n",
    "            yticklabels=label_encoder.classes_)\n",
    "plt.title(\"Random Forest Confusion Matrix\")\n",
    "plt.xlabel(\"Predicted Labels\")\n",
    "plt.ylabel(\"Actual Labels\")\n",
    "plt.show();"
   ]
  },
  {
   "cell_type": "code",
   "execution_count": 6,
   "metadata": {},
   "outputs": [
    {
     "name": "stdout",
     "output_type": "stream",
     "text": [
      "Classification Report:\n",
      "              precision    recall  f1-score   support\n",
      "\n",
      "     At Risk       0.34      0.36      0.35       572\n",
      "    Critical       0.34      0.33      0.33       601\n",
      "     Healthy       0.32      0.30      0.31       559\n",
      "\n",
      "    accuracy                           0.33      1732\n",
      "   macro avg       0.33      0.33      0.33      1732\n",
      "weighted avg       0.33      0.33      0.33      1732\n",
      "\n"
     ]
    }
   ],
   "source": [
    "# Classification Report\n",
    "class_report = classification_report(y_test, y_pred, target_names=label_encoder.classes_)\n",
    "print(\"Classification Report:\")\n",
    "print(class_report)"
   ]
  },
  {
   "cell_type": "code",
   "execution_count": 7,
   "metadata": {},
   "outputs": [
    {
     "data": {
      "image/png": "[encoded data removed]",
      "text/plain": [
       "<Figure size 800x600 with 1 Axes>"
      ]
     },
     "metadata": {},
     "output_type": "display_data"
    }
   ],
   "source": [
    "# Step 7: Analyze Feature Importance\n",
    "feature_importances = rf_model.feature_importances_\n",
    "feature_importance_df = pd.DataFrame({\n",
    "    \"Feature\": X.columns,\n",
    "    \"Importance\": feature_importances\n",
    "}).sort_values(by=\"Importance\", ascending=False)\n",
    "\n",
    "# Plot feature importance\n",
    "plt.figure(figsize=(8, 6))\n",
    "bar_plot = sns.barplot(x=\"Importance\", y=\"Feature\", data=feature_importance_df, width=0.6)\n",
    "colors = ['#FF6347', '#4682B4', '#32CD32', '#FFD700']\n",
    "# Apply the colors to each bar\n",
    "for i, bar in enumerate(bar_plot.patches):\n",
    "    bar.set_facecolor(colors[i % len(colors)])\n",
    "\n",
    "plt.title(\"Feature vs Importance in Random Forest\")\n",
    "plt.xlabel(\"Importance\")\n",
    "plt.ylabel(\"Features\")\n",
    "plt.show();"
   ]
  },
  {
   "cell_type": "code",
   "execution_count": null,
   "metadata": {},
   "outputs": [],
   "source": []
  }
 ],
 "metadata": {
  "kernelspec": {
   "display_name": "Python 3",
   "language": "python",
   "name": "python3"
  },
  "language_info": {
   "codemirror_mode": {
    "name": "ipython",
    "version": 3
   },
   "file_extension": ".py",
   "mimetype": "text/x-python",
   "name": "python",
   "nbconvert_exporter": "python",
   "pygments_lexer": "ipython3",
   "version": "3.12.8"
  }
 },
 "nbformat": 4,
 "nbformat_minor": 2
}
