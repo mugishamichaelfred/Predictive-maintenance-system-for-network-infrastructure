{
 "cells": [
  {
   "cell_type": "code",
   "execution_count": 10,
   "metadata": {},
   "outputs": [],
   "source": [
    "import pandas as pd     \n",
    "import matplotlib.pyplot as plt              \n",
    "from sklearn.linear_model import LinearRegression\n",
    "from sklearn.model_selection import train_test_split\n",
    "from sklearn.metrics import mean_absolute_error, r2_score, mean_squared_error"
   ]
  },
  {
   "cell_type": "code",
   "execution_count": 11,
   "metadata": {},
   "outputs": [
    {
     "data": {
      "text/html": [
       "<div>\n",
       "<style scoped>\n",
       "    .dataframe tbody tr th:only-of-type {\n",
       "        vertical-align: middle;\n",
       "    }\n",
       "\n",
       "    .dataframe tbody tr th {\n",
       "        vertical-align: top;\n",
       "    }\n",
       "\n",
       "    .dataframe thead th {\n",
       "        text-align: right;\n",
       "    }\n",
       "</style>\n",
       "<table border=\"1\" class=\"dataframe\">\n",
       "  <thead>\n",
       "    <tr style=\"text-align: right;\">\n",
       "      <th></th>\n",
       "      <th>Timestamp</th>\n",
       "      <th>Device</th>\n",
       "      <th>CPU (%)</th>\n",
       "      <th>Memory (%)</th>\n",
       "      <th>Errors (Count)</th>\n",
       "      <th>Traffic (Mbps)</th>\n",
       "      <th>Current Status</th>\n",
       "      <th>System State</th>\n",
       "      <th>Historical State</th>\n",
       "      <th>Future State Prediction</th>\n",
       "    </tr>\n",
       "  </thead>\n",
       "  <tbody>\n",
       "    <tr>\n",
       "      <th>0</th>\n",
       "      <td>2024-11-22 09:20:00</td>\n",
       "      <td>Router_A</td>\n",
       "      <td>99.88</td>\n",
       "      <td>36.92</td>\n",
       "      <td>1</td>\n",
       "      <td>213.78</td>\n",
       "      <td>Critical</td>\n",
       "      <td>Future</td>\n",
       "      <td>NaN</td>\n",
       "      <td>Critical</td>\n",
       "    </tr>\n",
       "    <tr>\n",
       "      <th>1</th>\n",
       "      <td>2024-11-22 09:25:00</td>\n",
       "      <td>Firewall_1</td>\n",
       "      <td>49.51</td>\n",
       "      <td>58.82</td>\n",
       "      <td>4</td>\n",
       "      <td>130.31</td>\n",
       "      <td>Healthy</td>\n",
       "      <td>Future</td>\n",
       "      <td>NaN</td>\n",
       "      <td>Healthy</td>\n",
       "    </tr>\n",
       "    <tr>\n",
       "      <th>2</th>\n",
       "      <td>2024-11-22 11:00:00</td>\n",
       "      <td>Switch_3</td>\n",
       "      <td>54.81</td>\n",
       "      <td>83.62</td>\n",
       "      <td>27</td>\n",
       "      <td>355.47</td>\n",
       "      <td>At Risk</td>\n",
       "      <td>Future</td>\n",
       "      <td>NaN</td>\n",
       "      <td>Healthy</td>\n",
       "    </tr>\n",
       "    <tr>\n",
       "      <th>3</th>\n",
       "      <td>2024-11-22 11:05:00</td>\n",
       "      <td>Router_C</td>\n",
       "      <td>63.68</td>\n",
       "      <td>86.95</td>\n",
       "      <td>15</td>\n",
       "      <td>356.59</td>\n",
       "      <td>Healthy</td>\n",
       "      <td>Future</td>\n",
       "      <td>NaN</td>\n",
       "      <td>At Risk</td>\n",
       "    </tr>\n",
       "    <tr>\n",
       "      <th>4</th>\n",
       "      <td>2024-11-22 11:35:00</td>\n",
       "      <td>Router_A</td>\n",
       "      <td>25.42</td>\n",
       "      <td>89.29</td>\n",
       "      <td>48</td>\n",
       "      <td>79.45</td>\n",
       "      <td>Healthy</td>\n",
       "      <td>Future</td>\n",
       "      <td>NaN</td>\n",
       "      <td>Critical</td>\n",
       "    </tr>\n",
       "    <tr>\n",
       "      <th>5</th>\n",
       "      <td>2024-11-22 12:00:00</td>\n",
       "      <td>Switch_1</td>\n",
       "      <td>37.25</td>\n",
       "      <td>69.03</td>\n",
       "      <td>33</td>\n",
       "      <td>209.37</td>\n",
       "      <td>Healthy</td>\n",
       "      <td>Historical</td>\n",
       "      <td>Overloaded</td>\n",
       "      <td>NaN</td>\n",
       "    </tr>\n",
       "    <tr>\n",
       "      <th>6</th>\n",
       "      <td>2024-11-22 12:35:00</td>\n",
       "      <td>Router_B</td>\n",
       "      <td>63.00</td>\n",
       "      <td>39.63</td>\n",
       "      <td>21</td>\n",
       "      <td>64.75</td>\n",
       "      <td>At Risk</td>\n",
       "      <td>Future</td>\n",
       "      <td>NaN</td>\n",
       "      <td>Healthy</td>\n",
       "    </tr>\n",
       "    <tr>\n",
       "      <th>7</th>\n",
       "      <td>2024-11-22 13:10:00</td>\n",
       "      <td>Switch_1</td>\n",
       "      <td>62.70</td>\n",
       "      <td>67.34</td>\n",
       "      <td>35</td>\n",
       "      <td>398.76</td>\n",
       "      <td>Healthy</td>\n",
       "      <td>Future</td>\n",
       "      <td>NaN</td>\n",
       "      <td>Healthy</td>\n",
       "    </tr>\n",
       "    <tr>\n",
       "      <th>8</th>\n",
       "      <td>2024-11-22 13:20:00</td>\n",
       "      <td>Router_B</td>\n",
       "      <td>95.50</td>\n",
       "      <td>86.14</td>\n",
       "      <td>46</td>\n",
       "      <td>102.76</td>\n",
       "      <td>Healthy</td>\n",
       "      <td>Future</td>\n",
       "      <td>NaN</td>\n",
       "      <td>Critical</td>\n",
       "    </tr>\n",
       "    <tr>\n",
       "      <th>9</th>\n",
       "      <td>2024-11-22 14:30:00</td>\n",
       "      <td>Router_A</td>\n",
       "      <td>75.91</td>\n",
       "      <td>57.70</td>\n",
       "      <td>12</td>\n",
       "      <td>162.70</td>\n",
       "      <td>Critical</td>\n",
       "      <td>Future</td>\n",
       "      <td>NaN</td>\n",
       "      <td>At Risk</td>\n",
       "    </tr>\n",
       "  </tbody>\n",
       "</table>\n",
       "</div>"
      ],
      "text/plain": [
       "            Timestamp      Device  CPU (%)  Memory (%)  Errors (Count)  \\\n",
       "0 2024-11-22 09:20:00    Router_A    99.88       36.92               1   \n",
       "1 2024-11-22 09:25:00  Firewall_1    49.51       58.82               4   \n",
       "2 2024-11-22 11:00:00    Switch_3    54.81       83.62              27   \n",
       "3 2024-11-22 11:05:00    Router_C    63.68       86.95              15   \n",
       "4 2024-11-22 11:35:00    Router_A    25.42       89.29              48   \n",
       "5 2024-11-22 12:00:00    Switch_1    37.25       69.03              33   \n",
       "6 2024-11-22 12:35:00    Router_B    63.00       39.63              21   \n",
       "7 2024-11-22 13:10:00    Switch_1    62.70       67.34              35   \n",
       "8 2024-11-22 13:20:00    Router_B    95.50       86.14              46   \n",
       "9 2024-11-22 14:30:00    Router_A    75.91       57.70              12   \n",
       "\n",
       "   Traffic (Mbps) Current Status System State Historical State  \\\n",
       "0          213.78       Critical       Future              NaN   \n",
       "1          130.31        Healthy       Future              NaN   \n",
       "2          355.47        At Risk       Future              NaN   \n",
       "3          356.59        Healthy       Future              NaN   \n",
       "4           79.45        Healthy       Future              NaN   \n",
       "5          209.37        Healthy   Historical       Overloaded   \n",
       "6           64.75        At Risk       Future              NaN   \n",
       "7          398.76        Healthy       Future              NaN   \n",
       "8          102.76        Healthy       Future              NaN   \n",
       "9          162.70       Critical       Future              NaN   \n",
       "\n",
       "  Future State Prediction  \n",
       "0                Critical  \n",
       "1                 Healthy  \n",
       "2                 Healthy  \n",
       "3                 At Risk  \n",
       "4                Critical  \n",
       "5                     NaN  \n",
       "6                 Healthy  \n",
       "7                 Healthy  \n",
       "8                Critical  \n",
       "9                 At Risk  "
      ]
     },
     "execution_count": 11,
     "metadata": {},
     "output_type": "execute_result"
    }
   ],
   "source": [
    "df = pd.read_excel(\"Predictive maintenance system for network infrastructure.xlsx\")\n",
    "df.head(10)"
   ]
  },
  {
   "cell_type": "code",
   "execution_count": 12,
   "metadata": {},
   "outputs": [
    {
     "data": {
      "text/plain": [
       "Index(['Timestamp', 'Device', 'CPU (%)', 'Memory (%)', 'Errors (Count)',\n",
       "       'Traffic (Mbps)', 'Current Status', 'System State', 'Historical State',\n",
       "       'Future State Prediction'],\n",
       "      dtype='object')"
      ]
     },
     "execution_count": 12,
     "metadata": {},
     "output_type": "execute_result"
    }
   ],
   "source": [
    "# Convert 'Timestamp' column to datetime format\n",
    "df['Timestamp'] = pd.to_datetime(df['Timestamp'])\n",
    "# Drop rows with missing values for the relevant columns\n",
    "df_cleaned = df.dropna(subset=['CPU (%)', 'Memory (%)', 'Errors (Count)', 'Traffic (Mbps)'])\n",
    "df_cleaned.columns"
   ]
  },
  {
   "cell_type": "code",
   "execution_count": 13,
   "metadata": {},
   "outputs": [
    {
     "name": "stdout",
     "output_type": "stream",
     "text": [
      "<class 'pandas.core.frame.DataFrame'>\n",
      "RangeIndex: 5771 entries, 0 to 5770\n",
      "Data columns (total 10 columns):\n",
      " #   Column                   Non-Null Count  Dtype         \n",
      "---  ------                   --------------  -----         \n",
      " 0   Timestamp                5771 non-null   datetime64[ns]\n",
      " 1   Device                   5771 non-null   object        \n",
      " 2   CPU (%)                  5771 non-null   float64       \n",
      " 3   Memory (%)               5771 non-null   float64       \n",
      " 4   Errors (Count)           5771 non-null   int64         \n",
      " 5   Traffic (Mbps)           5771 non-null   float64       \n",
      " 6   Current Status           5771 non-null   object        \n",
      " 7   System State             5771 non-null   object        \n",
      " 8   Historical State         5757 non-null   object        \n",
      " 9   Future State Prediction  5764 non-null   object        \n",
      "dtypes: datetime64[ns](1), float64(3), int64(1), object(5)\n",
      "memory usage: 451.0+ KB\n"
     ]
    }
   ],
   "source": [
    "df.info()"
   ]
  },
  {
   "cell_type": "code",
   "execution_count": 14,
   "metadata": {},
   "outputs": [],
   "source": [
    "features = [\"Traffic (Mbps)\", \"Memory (%)\", \"Errors (Count)\"]\n",
    "target = \"CPU (%)\"\n",
    "\n",
    "X = df_cleaned[features]\n",
    "y = df_cleaned[target]\n",
    "\n",
    "# Preparation of the data\n",
    "\n",
    "# Split the data into training and testing sets (80% training, 20% testing)\n",
    "X_train, X_test, y_train, y_test = train_test_split(X, y, test_size=0.2, random_state=42)\n"
   ]
  },
  {
   "cell_type": "code",
   "execution_count": 15,
   "metadata": {},
   "outputs": [
    {
     "data": {
      "text/plain": [
       "array([52.64334626, 52.16396868, 52.17960195, 52.26679702, 53.24894518,\n",
       "       52.94626616, 53.80536369, 51.85985915, 53.49303522, 52.42223109])"
      ]
     },
     "execution_count": 15,
     "metadata": {},
     "output_type": "execute_result"
    }
   ],
   "source": [
    "# Training the model\n",
    "\n",
    "model = LinearRegression()\n",
    "model.fit(X_train, y_train)\n",
    "\n",
    "# Predict the CPU percentage on test\n",
    "y_pred = model.predict(X_test)\n",
    "y_pred[:10]"
   ]
  },
  {
   "cell_type": "code",
   "execution_count": 16,
   "metadata": {},
   "outputs": [
    {
     "name": "stdout",
     "output_type": "stream",
     "text": [
      "Mean Squared Error (MSE): 587.1168476006616\n",
      "R-squared (R²): -0.00043390893656569673\n",
      "Mean Absolute Error (MAE): 20.82386452122676\n"
     ]
    }
   ],
   "source": [
    "# Model evaluation\n",
    "# Calculate Mean Squared Error (MSE)\n",
    "mse = mean_squared_error(y_test, y_pred)\n",
    "\n",
    "# Calculate R-squared (R²) score\n",
    "r2 = r2_score(y_test, y_pred)\n",
    "\n",
    "# Calculate Mean Absolute Error (MAE)\n",
    "mae = mean_absolute_error(y_test, y_pred)\n",
    "\n",
    "# Print evaluation results\n",
    "print(f\"Mean Squared Error (MSE): {mse}\")\n",
    "print(f\"R-squared (R²): {r2}\")\n",
    "print(f\"Mean Absolute Error (MAE): {mae}\")\n"
   ]
  },
  {
   "cell_type": "code",
   "execution_count": 17,
   "metadata": {},
   "outputs": [
    {
     "data": {
      "image/png": "[encoded data removed]",
      "text/plain": [
       "<Figure size 1000x600 with 1 Axes>"
      ]
     },
     "metadata": {},
     "output_type": "display_data"
    },
    {
     "name": "stdout",
     "output_type": "stream",
     "text": [
      "Feature Importance:\n",
      "          Feature  Coefficient\n",
      "1      Memory (%)     0.026541\n",
      "2  Errors (Count)     0.011974\n",
      "0  Traffic (Mbps)    -0.001787\n"
     ]
    }
   ],
   "source": [
    "# Visualize results\n",
    "plt.figure(figsize=(10, 6))\n",
    "plt.scatter(y_test, y_pred, alpha=0.5)\n",
    "plt.plot([y_test.min(), y_test.max()], [y_test.min(), y_test.max()], 'r--', linewidth=2)\n",
    "plt.title(\"Actual vs Predicted CPU Utilization Percentage\")\n",
    "plt.xlabel(\"Actual CPU Utilization (%)\")\n",
    "plt.ylabel(\"Predicted CPU Utilization (%)\")\n",
    "plt.grid()\n",
    "plt.show()\n",
    "\n",
    "# Display feature importance (coefficients)\n",
    "coefficients = pd.DataFrame({\n",
    "    \"Feature\": features,\n",
    "    \"Coefficient\": model.coef_\n",
    "}).sort_values(by=\"Coefficient\", ascending=False)\n",
    "\n",
    "print(\"Feature Importance:\")\n",
    "print(coefficients)"
   ]
  },
  {
   "cell_type": "code",
   "execution_count": null,
   "metadata": {},
   "outputs": [],
   "source": []
  }
 ],
 "metadata": {
  "kernelspec": {
   "display_name": "Python 3",
   "language": "python",
   "name": "python3"
  },
  "language_info": {
   "codemirror_mode": {
    "name": "ipython",
    "version": 3
   },
   "file_extension": ".py",
   "mimetype": "text/x-python",
   "name": "python",
   "nbconvert_exporter": "python",
   "pygments_lexer": "ipython3",
   "version": "3.12.8"
  }
 },
 "nbformat": 4,
 "nbformat_minor": 2
}
